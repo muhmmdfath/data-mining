{
 "cells": [
  {
   "cell_type": "code",
   "execution_count": null,
   "metadata": {},
   "outputs": [],
   "source": [
    "import pandas as pd\n",
    "from sklearn.tree import DecisionTreeClassifier\n",
    "from sklearn.model_selection import train_test_split\n",
    "from sklearn.preprocessing import LabelEncoder\n",
    "from sklearn.metrics import accuracy_score\n",
    "import matplotlib.pyplot as plt\n",
    "from sklearn.tree import plot_tree\n",
    "\n",
    "df = pd.read_csv(\"data_buah.csv\")\n",
    "print(df.head())\n",
    "\n",
    "le = LabelEncoder()\n",
    "df['Kulit Buah'] = le.fit_transform(df['Kulit Buah'])\n",
    "df['Warna'] = le.fit_transform(df['Warna'])\n",
    "df['Ukuran'] = le.fit_transform(df['Ukuran'])\n",
    "df['Bau'] = le.fit_transform(df['Bau'])\n",
    "df['Kelas'] = le.fit_transform(df['Kelas'])\n",
    "\n",
    "X = df[['Kulit Buah', 'Warna', 'Ukuran','Bau']]\n",
    "y = df['Kelas']\n",
    "\n",
    "X_train, X_test, y_train, y_test = train_test_split(X, y,\n",
    "test_size=0.1,random_state=42)\n",
    "\n",
    "clf = DecisionTreeClassifier()\n",
    "clf.fit(X_train, y_train)\n",
    "\n",
    "#cek akurasi\n",
    "y_pred = clf.predict(X_test)\n",
    "accuracy = accuracy_score(y_test, y_pred)\n",
    "print(f'Akurasi model: {accuracy * 100:.2f}%')\n"
   ]
  },
  {
   "cell_type": "code",
   "execution_count": null,
   "metadata": {},
   "outputs": [],
   "source": [
    "# Visualisasi pohon ke dalam plot\n",
    "plt.figure(figsize=(10, 6))\n",
    "plot_tree(clf, filled=True, feature_names=X.columns,\n",
    "class_names=['Aman', 'Berbahaya'])\n",
    "plt.show()"
   ]
  }
 ],
 "metadata": {
  "language_info": {
   "name": "python"
  },
  "orig_nbformat": 4
 },
 "nbformat": 4,
 "nbformat_minor": 2
}
