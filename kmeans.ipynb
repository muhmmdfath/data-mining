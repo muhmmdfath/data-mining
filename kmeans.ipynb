{
 "cells": [
  {
   "cell_type": "code",
   "execution_count": null,
   "metadata": {},
   "outputs": [],
   "source": [
    "import numpy as np\n",
    "import pandas as pd\n",
    "import matplotlib.pyplot as plt\n",
    "from sklearn.cluster import KMeans\n",
    "import seaborn as sns"
   ]
  },
  {
   "cell_type": "code",
   "execution_count": null,
   "metadata": {},
   "outputs": [],
   "source": [
    "# Baca file dataset\n",
    "data = pd.read_csv(\"mall_cust.csv\")"
   ]
  },
  {
   "cell_type": "code",
   "execution_count": null,
   "metadata": {},
   "outputs": [],
   "source": [
    "# mengecek nilai null pada dataset\n",
    "data.isna().sum()"
   ]
  },
  {
   "cell_type": "code",
   "execution_count": null,
   "metadata": {},
   "outputs": [],
   "source": [
    "from sklearn.preprocessing import StandardScaler\n",
    "\n",
    "points = data[['Age', 'Annual Income (k$)']]\n",
    "points = points.values\n",
    "\n",
    "ss = StandardScaler()\n",
    "x_scaled = ss.fit_transform(points)"
   ]
  },
  {
   "cell_type": "code",
   "execution_count": null,
   "metadata": {},
   "outputs": [],
   "source": [
    "# dimisalkan kluster yang dipake adalah 3\n",
    "model = KMeans(n_clusters = 3)\n",
    "model.fit(points)"
   ]
  },
  {
   "cell_type": "code",
   "execution_count": null,
   "metadata": {},
   "outputs": [],
   "source": [
    "y = model.fit_predict(points)\n",
    "print(y)"
   ]
  },
  {
   "cell_type": "code",
   "execution_count": null,
   "metadata": {},
   "outputs": [],
   "source": [
    "# visualisasi\n",
    "centroids = model.cluster_centers_\n",
    "\n",
    "centroid_x = centroids[:,0]\n",
    "centroid_y = centroids[:,1]\n",
    "\n",
    "plt.figure(figsize = (8,4))\n",
    "plt.scatter(points[y == 0,0], points[y == 0,1], c = 'green', alpha = 0.5)\n",
    "plt.scatter(points[y == 1,0], points[y == 1,1], c = 'red', alpha = 0.5)\n",
    "plt.scatter(points[y == 2,0], points[y == 2,1], c = 'blue', alpha = 0.5)\n",
    "\n",
    "plt.scatter(centroid_x, centroid_y, marker = \"D\", s = 50, label = \"Centroid\", c = 'yellow')\n",
    "plt.xlabel(\"Usia\")\n",
    "plt.ylabel(\"Pendapatan tahunan\")\n",
    "plt.legend()\n",
    "plt.show()"
   ]
  }
 ],
 "metadata": {
  "language_info": {
   "name": "python"
  },
  "orig_nbformat": 4
 },
 "nbformat": 4,
 "nbformat_minor": 2
}
